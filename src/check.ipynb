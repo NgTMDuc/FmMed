{
 "cells": [
  {
   "cell_type": "code",
   "execution_count": 11,
   "metadata": {},
   "outputs": [],
   "source": [
    "import json\n",
    "import re\n",
    "\n",
    "def extract_qa_pairs(message):\n",
    "    # Regex tìm các đoạn chứa Câu hỏi và Trả lời\n",
    "    pattern = r\"Câu hỏi:\\n(.*?)\\n===\\nTrả lời:\\n(.*?)(?=\\n===\\nCâu hỏi:|\\Z)\"\n",
    "    matches = re.findall(pattern, message, re.DOTALL)\n",
    "    \n",
    "    # Xử lý danh sách kết quả để loại bỏ khoảng trắng thừa\n",
    "    qa_pairs = [(q.strip(), a.strip()) for q, a in matches]\n",
    "    \n",
    "    return qa_pairs\n"
   ]
  },
  {
   "cell_type": "code",
   "execution_count": 12,
   "metadata": {},
   "outputs": [],
   "source": [
    "with open(\"sample_check.json\", \"r\") as f:\n",
    "    data = json.load(f)"
   ]
  },
  {
   "cell_type": "code",
   "execution_count": 13,
   "metadata": {},
   "outputs": [
    {
     "data": {
      "text/plain": [
       "{'messages': 'Câu hỏi:\\nBức ảnh này chụp bộ phận nào?\\n===\\nTrả lời:\\nBức ảnh này chụp toàn bộ cơ thể của bệnh nhân.\\n===\\nCâu hỏi:\\nCó phát hiện bất thường nào ở hệ thống xương không?\\n===\\nTrả lời:\\nCó, hình ảnh cho thấy một nốt đặc xương đường kính 11 mm ở chỏm xương đùi trái. Tuy nhiên, nốt này không tăng chuyển hóa FDG, điều này gợi ý rằng khả năng cao là tổn thương lành tính.\\n===\\nCâu hỏi:\\nCó tổn thương nào nghi ngờ ác tính ở hệ thống cơ xương không?\\n===\\nTrả lời:\\nKhông, hình ảnh không ghi nhận bất thường nào có tăng chuyển hóa FDG trong hệ thống cơ xương. Điều này có nghĩa là chưa có dấu hiệu gợi ý tổn thương ác tính hoặc di căn xương trên phim chụp.\\n===\\nCâu hỏi:\\nNhìn chung, có dấu hiệu nào gợi ý tổn thương ác tính trong hệ thống cơ xương không?\\n===\\nTrả lời:\\nDựa trên hình ảnh, không có dấu hiệu rõ ràng của tổn thương á'}"
      ]
     },
     "execution_count": 13,
     "metadata": {},
     "output_type": "execute_result"
    }
   ],
   "source": [
    "data"
   ]
  },
  {
   "cell_type": "code",
   "execution_count": 14,
   "metadata": {},
   "outputs": [
    {
     "name": "stdout",
     "output_type": "stream",
     "text": [
      "Q1: Bức ảnh này chụp bộ phận nào?\n",
      "A1: Bức ảnh này chụp toàn bộ cơ thể của bệnh nhân.\n",
      "--------------------------------------------------\n",
      "Q2: Có phát hiện bất thường nào ở hệ thống xương không?\n",
      "A2: Có, hình ảnh cho thấy một nốt đặc xương đường kính 11 mm ở chỏm xương đùi trái. Tuy nhiên, nốt này không tăng chuyển hóa FDG, điều này gợi ý rằng khả năng cao là tổn thương lành tính.\n",
      "--------------------------------------------------\n",
      "Q3: Có tổn thương nào nghi ngờ ác tính ở hệ thống cơ xương không?\n",
      "A3: Không, hình ảnh không ghi nhận bất thường nào có tăng chuyển hóa FDG trong hệ thống cơ xương. Điều này có nghĩa là chưa có dấu hiệu gợi ý tổn thương ác tính hoặc di căn xương trên phim chụp.\n",
      "--------------------------------------------------\n",
      "Q4: Nhìn chung, có dấu hiệu nào gợi ý tổn thương ác tính trong hệ thống cơ xương không?\n",
      "A4: Dựa trên hình ảnh, không có dấu hiệu rõ ràng của tổn thương á\n",
      "--------------------------------------------------\n"
     ]
    }
   ],
   "source": [
    "qa_pairs = extract_qa_pairs(data[\"messages\"])\n",
    "\n",
    "# Print results\n",
    "for i, (q, a) in enumerate(qa_pairs, 1):\n",
    "    print(f\"Q{i}: {q}\")\n",
    "    print(f\"A{i}: {a}\")\n",
    "    print(\"-\" * 50)\n"
   ]
  },
  {
   "cell_type": "code",
   "execution_count": null,
   "metadata": {},
   "outputs": [],
   "source": []
  }
 ],
 "metadata": {
  "kernelspec": {
   "display_name": "fmmed",
   "language": "python",
   "name": "python3"
  },
  "language_info": {
   "codemirror_mode": {
    "name": "ipython",
    "version": 3
   },
   "file_extension": ".py",
   "mimetype": "text/x-python",
   "name": "python",
   "nbconvert_exporter": "python",
   "pygments_lexer": "ipython3",
   "version": "3.13.2"
  }
 },
 "nbformat": 4,
 "nbformat_minor": 2
}
