{
 "cells": [
  {
   "cell_type": "code",
   "execution_count": 6,
   "metadata": {},
   "outputs": [],
   "source": [
    "\n",
    "from CtViT.ctvit import CTViT\n",
    "\n",
    "image_encoder = CTViT(\n",
    "    dim = 512,\n",
    "    codebook_size = 8192,\n",
    "    image_size = 480,\n",
    "    patch_size = 20,\n",
    "    temporal_patch_size = 10,\n",
    "    spatial_depth = 4,\n",
    "    temporal_depth = 4,\n",
    "    dim_head = 32,\n",
    "    heads = 8\n",
    ")"
   ]
  },
  {
   "cell_type": "code",
   "execution_count": 5,
   "metadata": {},
   "outputs": [
    {
     "name": "stdout",
     "output_type": "stream",
     "text": [
      "Looking in indexes: https://pypi.org/simple, https://pypi.ngc.nvidia.com\n",
      "Collecting beartype\n",
      "  Downloading beartype-0.19.0-py3-none-any.whl.metadata (32 kB)\n",
      "Downloading beartype-0.19.0-py3-none-any.whl (1.0 MB)\n",
      "\u001b[2K   \u001b[90m━━━━━━━━━━━━━━━━━━━━━━━━━━━━━━━━━━━━━━━━\u001b[0m \u001b[32m1.0/1.0 MB\u001b[0m \u001b[31m25.0 MB/s\u001b[0m eta \u001b[36m0:00:00\u001b[0m\n",
      "\u001b[?25hInstalling collected packages: beartype\n",
      "Successfully installed beartype-0.19.0\n"
     ]
    }
   ],
   "source": [
    "!pip install beartype"
   ]
  },
  {
   "cell_type": "code",
   "execution_count": 7,
   "metadata": {},
   "outputs": [
    {
     "data": {
      "text/plain": [
       "CTViT(\n",
       "  (spatial_rel_pos_bias): ContinuousPositionBias(\n",
       "    (net): ModuleList(\n",
       "      (0): Sequential(\n",
       "        (0): Linear(in_features=2, out_features=512, bias=True)\n",
       "        (1): LeakyReLU(negative_slope=0.1)\n",
       "      )\n",
       "      (1): Sequential(\n",
       "        (0): Linear(in_features=512, out_features=512, bias=True)\n",
       "        (1): LeakyReLU(negative_slope=0.1)\n",
       "      )\n",
       "      (2): Linear(in_features=512, out_features=8, bias=True)\n",
       "    )\n",
       "  )\n",
       "  (to_patch_emb_first_frame): Sequential(\n",
       "    (0): Rearrange('b c 1 (h p1) (w p2) -> b 1 h w (c p1 p2)', p1=20, p2=20)\n",
       "    (1): LayerNorm((400,), eps=1e-05, elementwise_affine=True)\n",
       "    (2): Linear(in_features=400, out_features=512, bias=True)\n",
       "    (3): LayerNorm((512,), eps=1e-05, elementwise_affine=True)\n",
       "  )\n",
       "  (to_patch_emb): Sequential(\n",
       "    (0): Rearrange('b c (t pt) (h p1) (w p2) -> b t h w (c pt p1 p2)', p1=20, p2=20, pt=10)\n",
       "    (1): LayerNorm((4000,), eps=1e-05, elementwise_affine=True)\n",
       "    (2): Linear(in_features=4000, out_features=512, bias=True)\n",
       "    (3): LayerNorm((512,), eps=1e-05, elementwise_affine=True)\n",
       "  )\n",
       "  (enc_spatial_transformer): Transformer(\n",
       "    (layers): ModuleList(\n",
       "      (0-3): 4 x ModuleList(\n",
       "        (0): PEG(\n",
       "          (dsconv): Conv3d(512, 512, kernel_size=(3, 3, 3), stride=(1, 1, 1), groups=512)\n",
       "        )\n",
       "        (1): Attention(\n",
       "          (attn_dropout): Dropout(p=0.0, inplace=False)\n",
       "          (norm): LayerNorm()\n",
       "          (context_norm): LayerNorm()\n",
       "          (to_q): Linear(in_features=512, out_features=256, bias=False)\n",
       "          (to_kv): Linear(in_features=512, out_features=512, bias=False)\n",
       "          (to_out): Linear(in_features=256, out_features=512, bias=False)\n",
       "        )\n",
       "        (2): None\n",
       "        (3): Sequential(\n",
       "          (0): LayerNorm((512,), eps=1e-05, elementwise_affine=True)\n",
       "          (1): Linear(in_features=512, out_features=2730, bias=False)\n",
       "          (2): GEGLU()\n",
       "          (3): Dropout(p=0.0, inplace=False)\n",
       "          (4): Linear(in_features=1365, out_features=512, bias=False)\n",
       "        )\n",
       "      )\n",
       "    )\n",
       "    (norm_out): LayerNorm()\n",
       "  )\n",
       "  (enc_temporal_transformer): Transformer(\n",
       "    (layers): ModuleList(\n",
       "      (0-3): 4 x ModuleList(\n",
       "        (0): PEG(\n",
       "          (dsconv): Conv3d(512, 512, kernel_size=(3, 3, 3), stride=(1, 1, 1), groups=512)\n",
       "        )\n",
       "        (1): Attention(\n",
       "          (attn_dropout): Dropout(p=0.0, inplace=False)\n",
       "          (norm): LayerNorm()\n",
       "          (context_norm): LayerNorm()\n",
       "          (to_q): Linear(in_features=512, out_features=256, bias=False)\n",
       "          (to_kv): Linear(in_features=512, out_features=512, bias=False)\n",
       "          (to_out): Linear(in_features=256, out_features=512, bias=False)\n",
       "        )\n",
       "        (2): None\n",
       "        (3): Sequential(\n",
       "          (0): LayerNorm((512,), eps=1e-05, elementwise_affine=True)\n",
       "          (1): Linear(in_features=512, out_features=2730, bias=False)\n",
       "          (2): GEGLU()\n",
       "          (3): Dropout(p=0.0, inplace=False)\n",
       "          (4): Linear(in_features=1365, out_features=512, bias=False)\n",
       "        )\n",
       "      )\n",
       "    )\n",
       "    (norm_out): LayerNorm()\n",
       "  )\n",
       "  (vq): VectorQuantize(\n",
       "    (project_in): Identity()\n",
       "    (project_out): Identity()\n",
       "    (_codebook): CosineSimCodebook()\n",
       "  )\n",
       "  (to_pixels_first_frame): Sequential(\n",
       "    (0): Linear(in_features=512, out_features=400, bias=True)\n",
       "    (1): Rearrange('b 1 h w (c p1 p2) -> b c 1 (h p1) (w p2)', p1=20, p2=20)\n",
       "  )\n",
       "  (to_pixels): Sequential(\n",
       "    (0): Linear(in_features=512, out_features=4000, bias=True)\n",
       "    (1): Rearrange('b t h w (c pt p1 p2) -> b c (t pt) (h p1) (w p2)', p1=20, p2=20, pt=10)\n",
       "  )\n",
       ")"
      ]
     },
     "execution_count": 7,
     "metadata": {},
     "output_type": "execute_result"
    }
   ],
   "source": [
    "image_encoder"
   ]
  },
  {
   "cell_type": "code",
   "execution_count": null,
   "metadata": {},
   "outputs": [],
   "source": []
  }
 ],
 "metadata": {
  "kernelspec": {
   "display_name": "fedfm",
   "language": "python",
   "name": "python3"
  },
  "language_info": {
   "codemirror_mode": {
    "name": "ipython",
    "version": 3
   },
   "file_extension": ".py",
   "mimetype": "text/x-python",
   "name": "python",
   "nbconvert_exporter": "python",
   "pygments_lexer": "ipython3",
   "version": "3.8.20"
  }
 },
 "nbformat": 4,
 "nbformat_minor": 2
}
