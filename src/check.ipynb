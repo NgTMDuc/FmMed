{
 "cells": [
  {
   "cell_type": "code",
   "execution_count": 11,
   "metadata": {},
   "outputs": [],
   "source": [
    "import json\n",
    "import re\n",
    "\n",
    "def extract_qa_pairs(message):\n",
    "    # Regex tìm các đoạn chứa Câu hỏi và Trả lời\n",
    "    pattern = r\"Câu hỏi:\\n(.*?)\\n===\\nTrả lời:\\n(.*?)(?=\\n===\\nCâu hỏi:|\\Z)\"\n",
    "    matches = re.findall(pattern, message, re.DOTALL)\n",
    "    \n",
    "    # Xử lý danh sách kết quả để loại bỏ khoảng trắng thừa\n",
    "    qa_pairs = [(q.strip(), a.strip()) for q, a in matches]\n",
    "    \n",
    "    return qa_pairs\n"
   ]
  },
  {
   "cell_type": "code",
   "execution_count": 12,
   "metadata": {},
   "outputs": [],
   "source": [
    "with open(\"sample_check.json\", \"r\") as f:\n",
    "    data = json.load(f)"
   ]
  },
  {
   "cell_type": "code",
   "execution_count": 13,
   "metadata": {},
   "outputs": [
    {
     "data": {
      "text/plain": [
       "{'messages': 'Câu hỏi:\\nBức ảnh này chụp bộ phận nào?\\n===\\nTrả lời:\\nBức ảnh này chụp toàn bộ cơ thể của bệnh nhân.\\n===\\nCâu hỏi:\\nCó phát hiện bất thường nào ở hệ thống xương không?\\n===\\nTrả lời:\\nCó, hình ảnh cho thấy một nốt đặc xương đường kính 11 mm ở chỏm xương đùi trái. Tuy nhiên, nốt này không tăng chuyển hóa FDG, điều này gợi ý rằng khả năng cao là tổn thương lành tính.\\n===\\nCâu hỏi:\\nCó tổn thương nào nghi ngờ ác tính ở hệ thống cơ xương không?\\n===\\nTrả lời:\\nKhông, hình ảnh không ghi nhận bất thường nào có tăng chuyển hóa FDG trong hệ thống cơ xương. Điều này có nghĩa là chưa có dấu hiệu gợi ý tổn thương ác tính hoặc di căn xương trên phim chụp.\\n===\\nCâu hỏi:\\nNhìn chung, có dấu hiệu nào gợi ý tổn thương ác tính trong hệ thống cơ xương không?\\n===\\nTrả lời:\\nDựa trên hình ảnh, không có dấu hiệu rõ ràng của tổn thương á'}"
      ]
     },
     "execution_count": 13,
     "metadata": {},
     "output_type": "execute_result"
    }
   ],
   "source": [
    "data"
   ]
  },
  {
   "cell_type": "code",
   "execution_count": 14,
   "metadata": {},
   "outputs": [
    {
     "name": "stdout",
     "output_type": "stream",
     "text": [
      "Q1: Bức ảnh này chụp bộ phận nào?\n",
      "A1: Bức ảnh này chụp toàn bộ cơ thể của bệnh nhân.\n",
      "--------------------------------------------------\n",
      "Q2: Có phát hiện bất thường nào ở hệ thống xương không?\n",
      "A2: Có, hình ảnh cho thấy một nốt đặc xương đường kính 11 mm ở chỏm xương đùi trái. Tuy nhiên, nốt này không tăng chuyển hóa FDG, điều này gợi ý rằng khả năng cao là tổn thương lành tính.\n",
      "--------------------------------------------------\n",
      "Q3: Có tổn thương nào nghi ngờ ác tính ở hệ thống cơ xương không?\n",
      "A3: Không, hình ảnh không ghi nhận bất thường nào có tăng chuyển hóa FDG trong hệ thống cơ xương. Điều này có nghĩa là chưa có dấu hiệu gợi ý tổn thương ác tính hoặc di căn xương trên phim chụp.\n",
      "--------------------------------------------------\n",
      "Q4: Nhìn chung, có dấu hiệu nào gợi ý tổn thương ác tính trong hệ thống cơ xương không?\n",
      "A4: Dựa trên hình ảnh, không có dấu hiệu rõ ràng của tổn thương á\n",
      "--------------------------------------------------\n"
     ]
    }
   ],
   "source": [
    "qa_pairs = extract_qa_pairs(data[\"messages\"])\n",
    "\n",
    "# Print results\n",
    "for i, (q, a) in enumerate(qa_pairs, 1):\n",
    "    print(f\"Q{i}: {q}\")\n",
    "    print(f\"A{i}: {a}\")\n",
    "    print(\"-\" * 50)\n"
   ]
  },
  {
   "cell_type": "code",
   "execution_count": 3,
   "metadata": {},
   "outputs": [
    {
     "name": "stdout",
     "output_type": "stream",
     "text": [
      "Lỗi xử lý phần tử tại dòng 9 với report_id '/home/user01/aiotlab/ducntm/DATA/FmMedical/THANG 3/reports/head_neck/day_16_patient_185.txt': Trường 'qa' không đúng định dạng mong đợi.\n",
      "Lỗi xử lý phần tử tại dòng 11 với report_id '/home/user01/aiotlab/ducntm/DATA/FmMedical/THANG 3/reports/head_neck/day_16_patient_182.txt': Trường 'qa' không đúng định dạng mong đợi.\n",
      "Lỗi xử lý phần tử tại dòng 31 với report_id '/home/user01/aiotlab/ducntm/DATA/FmMedical/THANG 3/reports/head_neck/day_10_patient_150.txt': Trường 'qa' không đúng định dạng mong đợi.\n",
      "Lỗi xử lý phần tử tại dòng 51 với report_id '/home/user01/aiotlab/ducntm/DATA/FmMedical/THANG 3/reports/head_neck/day_14_patient_158.txt': Trường 'qa' không đúng định dạng mong đợi.\n",
      "Lỗi xử lý phần tử tại dòng 117 với report_id '/home/user01/aiotlab/ducntm/DATA/FmMedical/THANG 3/reports/head_neck/day_3_patient_272.txt': Trường 'qa' không đúng định dạng mong đợi.\n",
      "Lỗi xử lý phần tử tại dòng 144 với report_id '/home/user01/aiotlab/ducntm/DATA/FmMedical/THANG 3/reports/head_neck/day_2_patient_200.txt': Trường 'qa' không đúng định dạng mong đợi.\n",
      "Lỗi xử lý phần tử tại dòng 242 với report_id '/home/user01/aiotlab/ducntm/DATA/FmMedical/THANG 3/reports/abdomen_pelvis/day_22_patient_225.txt': Trường 'qa' không đúng định dạng mong đợi.\n"
     ]
    }
   ],
   "source": [
    "import os\n",
    "import json\n",
    "import hashlib\n",
    "import re\n",
    "\n",
    "def convert_json(old_data, seq):\n",
    "    \"\"\"\n",
    "    Chuyển đổi một đối tượng JSON theo định dạng:\n",
    "    {\n",
    "        \"id\": \"<seq>_<md5(report_id)>\",\n",
    "        \"image\": \"<tên file, với report_id thay '/reports/' thành '/images/' và đuôi '.txt' thành '.npy'>\",\n",
    "        \"conversations\": [\n",
    "            {\"from\": \"human\", \"value\": \"<question>\"},\n",
    "            {\"from\": \"gpt\", \"value\": \"<answer>\"},\n",
    "            ...\n",
    "        ]\n",
    "    }\n",
    "    Nếu phần tử không đúng định dạng (ví dụ, trường 'qa' không có các cặp \"Câu hỏi:\" - \"Trả lời:\"), ném ngoại lệ.\n",
    "    \"\"\"\n",
    "    if \"report_id\" not in old_data or \"qa\" not in old_data:\n",
    "        raise ValueError(\"Thiếu trường bắt buộc 'report_id' hoặc 'qa'\")\n",
    "    \n",
    "    report_id = old_data[\"report_id\"]\n",
    "    # Tạo hash MD5 từ report_id\n",
    "    hash_str = hashlib.md5(report_id.encode(\"utf-8\")).hexdigest()\n",
    "    new_id = f\"{seq}_{hash_str}\"\n",
    "    \n",
    "    # Chuyển đổi đường dẫn file: thay '/reports/' thành '/images/' và đổi đuôi .txt thành .npy\n",
    "    image_path = report_id.replace(\"/reports/\", \"/images/\")\n",
    "    if image_path.endswith(\".txt\"):\n",
    "        image_path = image_path[:-4] + \".npy\"\n",
    "    image_file = image_path\n",
    "    \n",
    "    # Xử lý trường \"qa\": Tách các cặp \"Câu hỏi:\" - \"Trả lời:\" bằng regex\n",
    "    qa_text = old_data[\"qa\"]\n",
    "    conversations = []\n",
    "    pattern = re.compile(\n",
    "        r\"Câu hỏi:\\s*(.*?)\\s*===\\s*Trả lời:\\s*(.*?)(?=\\n*Câu hỏi:|$)\",\n",
    "        re.DOTALL\n",
    "    )\n",
    "    matches = re.findall(pattern, qa_text)\n",
    "    if not matches:\n",
    "        raise ValueError(\"Trường 'qa' không đúng định dạng mong đợi.\")\n",
    "    \n",
    "    for question, answer in matches:\n",
    "        conversations.append({\n",
    "            \"from\": \"human\",\n",
    "            \"value\": question.strip()\n",
    "        })\n",
    "        conversations.append({\n",
    "            \"from\": \"gpt\",\n",
    "            \"value\": answer.strip()\n",
    "        })\n",
    "    \n",
    "    new_data = {\n",
    "        \"id\": new_id,\n",
    "        \"image\": image_file,\n",
    "        \"conversations\": conversations\n",
    "    }\n",
    "    return new_data\n",
    "\n",
    "def process_jsonl_file(input_file, output_file, error_file):\n",
    "    \"\"\"\n",
    "    Đọc file JSONL chứa nhiều đối tượng JSON (mỗi dòng một đối tượng),\n",
    "    chuyển đổi từng đối tượng theo định dạng mới.\n",
    "    Nếu một phần tử không đúng định dạng (ví dụ, trường 'qa' không hợp lệ),\n",
    "    ghi report_id của phần tử đó vào file error_file.\n",
    "    Kết quả chuyển đổi được lưu vào output_file (file JSON chứa danh sách các đối tượng).\n",
    "    \"\"\"\n",
    "    converted_list = []\n",
    "    error_ids = []\n",
    "    seq = 1\n",
    "\n",
    "    with open(input_file, \"r\", encoding=\"utf-8\") as fin:\n",
    "        for line_number, line in enumerate(fin, start=1):\n",
    "            line = line.strip()\n",
    "            if not line:\n",
    "                continue\n",
    "            try:\n",
    "                element = json.loads(line)\n",
    "                converted = convert_json(element, seq)\n",
    "                converted_list.append(converted)\n",
    "                seq += 1\n",
    "            except Exception as e:\n",
    "                # Nếu không thể chuyển đổi, lưu report_id (nếu có) vào danh sách lỗi\n",
    "                try:\n",
    "                    element = json.loads(line)\n",
    "                    report_id = element.get(\"report_id\", f\"unknown_line_{line_number}\")\n",
    "                except Exception:\n",
    "                    report_id = f\"unknown_line_{line_number}\"\n",
    "                print(f\"Lỗi xử lý phần tử tại dòng {line_number} với report_id '{report_id}': {e}\")\n",
    "                error_ids.append(report_id)\n",
    "    \n",
    "    # Lưu kết quả chuyển đổi ra file JSON (danh sách các đối tượng)\n",
    "    with open(output_file, \"w\", encoding=\"utf-8\") as fout:\n",
    "        json.dump(converted_list, fout, ensure_ascii=False, indent=2)\n",
    "    \n",
    "    # Lưu report_id của các phần tử lỗi vào file txt\n",
    "    with open(error_file, \"w\", encoding=\"utf-8\") as ferr:\n",
    "        for rid in error_ids:\n",
    "            ferr.write(rid + \"\\n\")\n",
    "\n",
    "if __name__ == \"__main__\":\n",
    "    input_file = \"conversations.jsonl\"             # File JSONL chứa nhiều đối tượng JSON (mỗi dòng một đối tượng)\n",
    "    output_file = \"converted_output.json\"  # File JSON chứa các phần tử đã chuyển đổi (danh sách các đối tượng)\n",
    "    error_file = \"error_report_ids.txt\"      # File txt chứa report_id của các phần tử lỗi\n",
    "\n",
    "    process_jsonl_file(input_file, output_file, error_file)"
   ]
  }
 ],
 "metadata": {
  "kernelspec": {
   "display_name": "thaind",
   "language": "python",
   "name": "python3"
  },
  "language_info": {
   "codemirror_mode": {
    "name": "ipython",
    "version": 3
   },
   "file_extension": ".py",
   "mimetype": "text/x-python",
   "name": "python",
   "nbconvert_exporter": "python",
   "pygments_lexer": "ipython3",
   "version": "3.12.3"
  }
 },
 "nbformat": 4,
 "nbformat_minor": 2
}
